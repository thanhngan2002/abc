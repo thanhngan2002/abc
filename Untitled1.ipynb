{
  "nbformat": 4,
  "nbformat_minor": 0,
  "metadata": {
    "colab": {
      "name": "Untitled1.ipynb",
      "provenance": [],
      "authorship_tag": "ABX9TyMZkSNFVI54IgNUBfJ6Wvle",
      "include_colab_link": true
    },
    "kernelspec": {
      "name": "python3",
      "display_name": "Python 3"
    }
  },
  "cells": [
    {
      "cell_type": "markdown",
      "metadata": {
        "id": "view-in-github",
        "colab_type": "text"
      },
      "source": [
        "<a href=\"https://colab.research.google.com/github/thanhngan2002/abc/blob/main/Untitled1.ipynb\" target=\"_parent\"><img src=\"https://colab.research.google.com/assets/colab-badge.svg\" alt=\"Open In Colab\"/></a>"
      ]
    },
    {
      "cell_type": "markdown",
      "metadata": {
        "id": "GFh6fJ7vTz-2"
      },
      "source": [
        "1) Tạo một biến x kiểu list rỗng"
      ]
    },
    {
      "cell_type": "code",
      "metadata": {
        "id": "EjstG_VBh7-C"
      },
      "source": [
        " x=[]"
      ],
      "execution_count": 1,
      "outputs": []
    },
    {
      "cell_type": "markdown",
      "metadata": {
        "id": "lRee4-O0UbZ-"
      },
      "source": [
        "2) Thêm giá trị 18 vào x"
      ]
    },
    {
      "cell_type": "code",
      "metadata": {
        "id": "Xz7Llyi-UjFN"
      },
      "source": [
        " x.append(18)"
      ],
      "execution_count": 2,
      "outputs": []
    },
    {
      "cell_type": "markdown",
      "metadata": {
        "id": "f9LXaMjAU9iw"
      },
      "source": [
        "3) Thêm giá trị \"Huế\" vào x"
      ]
    },
    {
      "cell_type": "markdown",
      "metadata": {
        "id": "Mrxz8nufUYQn"
      },
      "source": [
        ""
      ]
    },
    {
      "cell_type": "code",
      "metadata": {
        "id": "R6LiAunRVHNp"
      },
      "source": [
        "  x.append('Huế')"
      ],
      "execution_count": 3,
      "outputs": []
    },
    {
      "cell_type": "markdown",
      "metadata": {
        "id": "gKAjxminVp7l"
      },
      "source": [
        "4) Tạo 1 List y = [12, 45, -1, -0.56, \"abc\"]"
      ]
    },
    {
      "cell_type": "code",
      "metadata": {
        "id": "KcEj6ABbWF4k"
      },
      "source": [
        "  y = [12, 45, -1, -0.56, \"abc\"]"
      ],
      "execution_count": 4,
      "outputs": []
    },
    {
      "cell_type": "markdown",
      "metadata": {
        "id": "ujPnpu7zWYK3"
      },
      "source": [
        "5) Thêm y vào x"
      ]
    },
    {
      "cell_type": "code",
      "metadata": {
        "id": "MJ2p3aixWdWr"
      },
      "source": [
        "  x.extend(y)"
      ],
      "execution_count": 5,
      "outputs": []
    },
    {
      "cell_type": "markdown",
      "metadata": {
        "id": "P3BmERsnWjZ6"
      },
      "source": [
        "6) Xuất giá trị x ra màn hình"
      ]
    },
    {
      "cell_type": "code",
      "metadata": {
        "id": "e7bQStTyWzLd",
        "outputId": "d9967e9d-4dd7-4716-811b-91561f3d12bf",
        "colab": {
          "base_uri": "https://localhost:8080/"
        }
      },
      "source": [
        " print(x)"
      ],
      "execution_count": 8,
      "outputs": [
        {
          "output_type": "stream",
          "text": [
            "[18, 'Huế', 12, 45, -1, -0.56, 'abc']\n"
          ],
          "name": "stdout"
        }
      ]
    },
    {
      "cell_type": "markdown",
      "metadata": {
        "id": "pWWzK8U2XMQw"
      },
      "source": [
        "7) In ra màn hình giá trị của phần tử cuối cùng và phần tử đầu tiên của x"
      ]
    },
    {
      "cell_type": "code",
      "metadata": {
        "id": "89wp2kiTXcMQ",
        "outputId": "ab87b988-bd34-48cb-c2b1-b03ca5fe8bf0",
        "colab": {
          "base_uri": "https://localhost:8080/"
        }
      },
      "source": [
        "print(\"phan tu cuoi cung la:\",x[-1],\"----phan tu dau tien la:\",x[0])"
      ],
      "execution_count": 10,
      "outputs": [
        {
          "output_type": "stream",
          "text": [
            "phan tu cuoi cung la: abc ----phan tu dau tien la: 18\n"
          ],
          "name": "stdout"
        }
      ]
    },
    {
      "cell_type": "markdown",
      "metadata": {
        "id": "L-AQNv1xX9l2"
      },
      "source": [
        "8) In ra màn hình giá trị của phần tử đầu tiên đến phần tử thứ 5 của x"
      ]
    },
    {
      "cell_type": "code",
      "metadata": {
        "id": "UTJS1RMTYe1X",
        "outputId": "0c9d45fa-6047-4ec3-981d-136008ba2e62",
        "colab": {
          "base_uri": "https://localhost:8080/"
        }
      },
      "source": [
        " print('phan tu dau tien den phan tu thu nam la:',x[:5])"
      ],
      "execution_count": 11,
      "outputs": [
        {
          "output_type": "stream",
          "text": [
            "phan tu dau tien den phan tu thu nam la: [18, 'Huế', 12, 45, -1]\n"
          ],
          "name": "stdout"
        }
      ]
    },
    {
      "cell_type": "markdown",
      "metadata": {
        "id": "wHRmQIW4Y_-V"
      },
      "source": [
        "9) In ra màn hình giá trị của phần tử thứ 3 đến cuối cùng của x"
      ]
    },
    {
      "cell_type": "code",
      "metadata": {
        "id": "rPU0cjNMZZ3p",
        "outputId": "f4943735-554a-45f1-be95-489d65bb2f7e",
        "colab": {
          "base_uri": "https://localhost:8080/"
        }
      },
      "source": [
        " print('phan tu thu ba den phan tu cuoi cung la:',x[2:])"
      ],
      "execution_count": 12,
      "outputs": [
        {
          "output_type": "stream",
          "text": [
            "phan tu thu ba den phan tu cuoi cung la: [12, 45, -1, -0.56, 'abc']\n"
          ],
          "name": "stdout"
        }
      ]
    }
  ]
}